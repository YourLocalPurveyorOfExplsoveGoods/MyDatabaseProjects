{
 "cells": [
  {
   "cell_type": "code",
   "execution_count": 10,
   "id": "6bee8af4-e019-4e99-84b7-974d244e643d",
   "metadata": {},
   "outputs": [],
   "source": [
    "import sqlite3\n",
    "from contextlib import closing\n",
    "\n",
    "import pandas as pd\n",
    "import numpy as np\n",
    "import csv, datetime\n",
    "import sqlalchemy\n",
    "\n",
    "from pandas import Series, DataFrame"
   ]
  },
  {
   "cell_type": "code",
   "execution_count": 11,
   "id": "dfa37c06-65eb-4225-9478-2bf4d2cec994",
   "metadata": {},
   "outputs": [],
   "source": [
    "# filters date: outputs a dataframe with boolean values\n",
    "def date_filter(year_specific, date_input):\n",
    "    years = str(year_specific)\n",
    "    dates = date_input\n",
    "    return dates.dt.strftime('%Y') == years"
   ]
  },
  {
   "cell_type": "code",
   "execution_count": 12,
   "id": "4002f665-3b50-468e-a178-fc5bd8985dc1",
   "metadata": {},
   "outputs": [],
   "source": [
    "with open('sp500_index.csv', 'r') as stockData:\n",
    "    stockDF = pd.read_csv(stockData)  # producing a dataframe from the CSV file\n",
    "    date_time = pd.to_datetime(stockDF['Date'], format = '%Y-%m-%d') \n",
    "\n",
    "    yearInput = (date_time.dt.strftime('%Y')).drop_duplicates().to_list()  # takes only the year part of the dates form the date column, removes the duplicates and puts it into list\n",
    "    for year in yearInput:   \n",
    "        dateSpec = date_filter(year, date_time)  # based on what year you want, returns a df with boolean values; true if the years match, false if they don't\n",
    "        dateSpecChoice = stockDF[dateSpec]  # returns all the values from stockData df that have the same year as the yearInput\n",
    "        filename2 = 'SQLiteDBMakerv2.db'\n",
    "        with closing(sqlite3.connect(filename2)) as v2_conn:\n",
    "            with closing(v2_conn.cursor()) as v2_cur:\n",
    "                v2_cur.execute('CREATE TABLE IF NOT EXISTS firstTable(id, column1)')\n",
    "                #dateSpecChoice.to_sql(name = year, con = v2_conn, if_exists = 'fail')  # name = name of table, con = database connection, if exists = if the table exists, raise an error\n",
    "            v2_conn.commit()\n",
    "\n"
   ]
  },
  {
   "cell_type": "markdown",
   "id": "b56b622d-2885-46b6-ad73-c523ba43e0d0",
   "metadata": {},
   "source": [
    "# SQLiteDBMaker v2\n",
    "- Create empty tables with all the years (create a function?)\n",
    "- Automatically input data for its respective year"
   ]
  },
  {
   "cell_type": "raw",
   "id": "ed2bc9a9-f844-4739-bcfc-6efd609ebcef",
   "metadata": {},
   "source": [
    "filename2 = 'SQLiteDBMakerv2.db'\n",
    "with closing(sqlite3.connect(filename2)) as v2_conn:\n",
    "    with closing(v2_conn.cursor()) as v2_cur:\n",
    "        v2_cur.execute('CREATE TABLE IF NOT EXISTS firstTable(id, column1)')\n",
    "        dateSpecChoice.to_sql(name = year, con = v2_conn, if_exists = 'fail')  # name = name of table, con = database connection, if exists = if the table exists, raise an error\n",
    "    v2_conn.commit()"
   ]
  }
 ],
 "metadata": {
  "kernelspec": {
   "display_name": "Python 3 (ipykernel)",
   "language": "python",
   "name": "python3"
  },
  "language_info": {
   "codemirror_mode": {
    "name": "ipython",
    "version": 3
   },
   "file_extension": ".py",
   "mimetype": "text/x-python",
   "name": "python",
   "nbconvert_exporter": "python",
   "pygments_lexer": "ipython3",
   "version": "3.10.14"
  }
 },
 "nbformat": 4,
 "nbformat_minor": 5
}
